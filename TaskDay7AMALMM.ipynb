{
 "cells": [
  {
   "cell_type": "code",
   "execution_count": 2,
   "id": "77a9b0b9",
   "metadata": {},
   "outputs": [],
   "source": [
    "# Print star pattern, submit the task by tomorrow  11 am\n",
    "# ○\t Right Half Pyramid Pattern\n",
    "# ○\tLeft Half Pyramid Pattern\n",
    "# ○\tFull Pyramid Pattern\n",
    "# ○\tInverted Right Half Pyramid Pattern\n",
    "# ○\tInverted Left Half Pyramid Pattern"
   ]
  },
  {
   "cell_type": "markdown",
   "id": "0538889c",
   "metadata": {},
   "source": [
    "1 Right Half Pyramid Pattern"
   ]
  },
  {
   "cell_type": "code",
   "execution_count": 9,
   "id": "d2bf63ca",
   "metadata": {},
   "outputs": [
    {
     "name": "stdout",
     "output_type": "stream",
     "text": [
      "Enter the number of rows: 5\n",
      "* \n",
      "* * \n",
      "* * * \n",
      "* * * * \n",
      "* * * * * \n"
     ]
    }
   ],
   "source": [
    "rows = int(input(\"Enter the number of rows: \"))\n",
    "for i in range(1, rows+1):\n",
    "    for j in range(1, i+1):\n",
    "        print(\"*\", end=\" \")\n",
    "    print()\n"
   ]
  },
  {
   "cell_type": "markdown",
   "id": "1f72566b",
   "metadata": {},
   "source": [
    "Left Half Pyramid Pattern"
   ]
  },
  {
   "cell_type": "code",
   "execution_count": 10,
   "id": "4aef4a9c",
   "metadata": {},
   "outputs": [
    {
     "name": "stdout",
     "output_type": "stream",
     "text": [
      "Enter the number of rows: 5\n",
      "        * \n",
      "      * * \n",
      "    * * * \n",
      "  * * * * \n",
      "* * * * * \n"
     ]
    }
   ],
   "source": [
    "rows = int(input(\"Enter the number of rows: \"))\n",
    "for i in range(1, rows+1):\n",
    "    for j in range(1, rows-i+1):\n",
    "        print(\" \", end=\" \")\n",
    "    for j in range(1, i+1):\n",
    "        print(\"*\", end=\" \")\n",
    "    print()\n"
   ]
  },
  {
   "cell_type": "markdown",
   "id": "df76f550",
   "metadata": {},
   "source": [
    "Full Pyramid Pattern"
   ]
  },
  {
   "cell_type": "code",
   "execution_count": 11,
   "id": "e6a85072",
   "metadata": {},
   "outputs": [
    {
     "name": "stdout",
     "output_type": "stream",
     "text": [
      "Enter the number of rows: 5\n",
      "    *\n",
      "   ***\n",
      "  *****\n",
      " *******\n",
      "*********\n"
     ]
    }
   ],
   "source": [
    "rows = int(input(\"Enter the number of rows: \"))\n",
    "k = 0\n",
    "for i in range(1, rows+1):\n",
    "    for space in range(1, (rows-i)+1):\n",
    "        print(end=\" \")\n",
    "    while k!=(2*i-1):\n",
    "        print(\"*\", end=\"\")\n",
    "        k += 1\n",
    "    k = 0\n",
    "    print()\n"
   ]
  },
  {
   "cell_type": "code",
   "execution_count": null,
   "id": "f3d5b686",
   "metadata": {},
   "outputs": [],
   "source": []
  }
 ],
 "metadata": {
  "kernelspec": {
   "display_name": "Python 3 (ipykernel)",
   "language": "python",
   "name": "python3"
  },
  "language_info": {
   "codemirror_mode": {
    "name": "ipython",
    "version": 3
   },
   "file_extension": ".py",
   "mimetype": "text/x-python",
   "name": "python",
   "nbconvert_exporter": "python",
   "pygments_lexer": "ipython3",
   "version": "3.9.7"
  }
 },
 "nbformat": 4,
 "nbformat_minor": 5
}
