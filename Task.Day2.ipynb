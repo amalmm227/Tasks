{
 "cells": [
  {
   "cell_type": "markdown",
   "id": "34e6715f",
   "metadata": {},
   "source": [
    "Programme to find the area of the rectangle"
   ]
  },
  {
   "cell_type": "code",
   "execution_count": 2,
   "id": "a8d08eb0",
   "metadata": {},
   "outputs": [
    {
     "name": "stdout",
     "output_type": "stream",
     "text": [
      "Enter the length:56\n",
      "Enter the width14\n",
      "The area is= 784.0\n"
     ]
    }
   ],
   "source": [
    "length = float(input('Enter the length:'))\n",
    "\n",
    "width = float(input('Enter the width:'))\n",
    "\n",
    "Area = length*width\n",
    "\n",
    "print('The area is=',Area)"
   ]
  },
  {
   "cell_type": "markdown",
   "id": "2e3adc76",
   "metadata": {},
   "source": [
    "Area of Square"
   ]
  },
  {
   "cell_type": "code",
   "execution_count": 3,
   "id": "42dcbe36",
   "metadata": {},
   "outputs": [
    {
     "name": "stdout",
     "output_type": "stream",
     "text": [
      "Enter the side length of the square: 45\n",
      "The area of the square is 2025.0\n"
     ]
    }
   ],
   "source": [
    "side = float(input(\"Enter the side length of the square: \"))\n",
    "\n",
    "area = side * side\n",
    "\n",
    "print(\"The area of the square is\", area)\n"
   ]
  },
  {
   "cell_type": "markdown",
   "id": "88f4c896",
   "metadata": {},
   "source": [
    "To check Prime Numbers"
   ]
  },
  {
   "cell_type": "code",
   "execution_count": null,
   "id": "09de8e20",
   "metadata": {},
   "outputs": [],
   "source": [
    "num = int(input(\"Enter a number: \"))\n",
    "\n",
    "if num > 1:\n",
    "    for i in range(2, num):\n",
    "        if (num % i) == 0:\n",
    "            print(num, \"is not a prime number\")\n",
    "            break\n",
    "    else:\n",
    "        print(num, \"is a prime number\")\n",
    "else:\n",
    "    print(num, \"is not a prime number\")\n"
   ]
  }
 ],
 "metadata": {
  "kernelspec": {
   "display_name": "Python 3 (ipykernel)",
   "language": "python",
   "name": "python3"
  },
  "language_info": {
   "codemirror_mode": {
    "name": "ipython",
    "version": 3
   },
   "file_extension": ".py",
   "mimetype": "text/x-python",
   "name": "python",
   "nbconvert_exporter": "python",
   "pygments_lexer": "ipython3",
   "version": "3.9.7"
  }
 },
 "nbformat": 4,
 "nbformat_minor": 5
}
