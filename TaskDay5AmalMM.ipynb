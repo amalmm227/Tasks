{
 "cells": [
  {
   "cell_type": "code",
   "execution_count": 1,
   "id": "6582acbb",
   "metadata": {},
   "outputs": [],
   "source": [
    "# Swap 2 numbers"
   ]
  },
  {
   "cell_type": "code",
   "execution_count": 2,
   "id": "70c63de0",
   "metadata": {},
   "outputs": [
    {
     "name": "stdout",
     "output_type": "stream",
     "text": [
      "3 2\n"
     ]
    }
   ],
   "source": [
    "a = 2\n",
    "\n",
    "b = 3\n",
    "\n",
    "c=a\n",
    "\n",
    "a=b\n",
    "b=c\n",
    "print(a,b)"
   ]
  },
  {
   "cell_type": "code",
   "execution_count": 15,
   "id": "0995dc41",
   "metadata": {},
   "outputs": [],
   "source": [
    "# Without using variable"
   ]
  },
  {
   "cell_type": "code",
   "execution_count": 14,
   "id": "6f135347",
   "metadata": {},
   "outputs": [
    {
     "name": "stdout",
     "output_type": "stream",
     "text": [
      "2 1\n"
     ]
    }
   ],
   "source": [
    "a = 1\n",
    "b = 2\n",
    "\n",
    "a = a + b\n",
    "b = a - b\n",
    "a = a - b\n",
    "print(a,b)\n"
   ]
  },
  {
   "cell_type": "code",
   "execution_count": 16,
   "id": "3a70943f",
   "metadata": {},
   "outputs": [],
   "source": [
    "# To print elements of an array"
   ]
  },
  {
   "cell_type": "code",
   "execution_count": 27,
   "id": "1721c6e2",
   "metadata": {},
   "outputs": [
    {
     "name": "stdout",
     "output_type": "stream",
     "text": [
      "Enter the range of numbers:5\n",
      "Enter the numbers:45\n",
      "Enter the numbers:5454\n",
      "Enter the numbers:8454\n",
      "Enter the numbers:5845454\n",
      "Enter the numbers:896\n",
      "45\n",
      "5454\n",
      "8454\n",
      "5845454\n",
      "896\n"
     ]
    }
   ],
   "source": [
    "n = int(input('Enter the range of numbers:'))\n",
    "\n",
    "a = []\n",
    "\n",
    "for i in range(n):\n",
    "    num=int(input('Enter the numbers:'))\n",
    "    a.append(num)\n",
    "    \n",
    "for i in range(len(a)):\n",
    "    print(a[i])"
   ]
  },
  {
   "cell_type": "code",
   "execution_count": 28,
   "id": "8b2cd214",
   "metadata": {},
   "outputs": [],
   "source": [
    "# programme to print array of list in reverse order"
   ]
  },
  {
   "cell_type": "code",
   "execution_count": 35,
   "id": "44ee3d7e",
   "metadata": {},
   "outputs": [
    {
     "name": "stdout",
     "output_type": "stream",
     "text": [
      "Enter the range of numbers:2\n",
      "Enter the numbers:47\n",
      "Enter the numbers:89\n",
      "89\n",
      "47\n"
     ]
    }
   ],
   "source": [
    "n = int(input('Enter the range of numbers:'))\n",
    "\n",
    "a = []\n",
    "\n",
    "for i in range(n):\n",
    "    num=int(input('Enter the numbers:'))\n",
    "    a.append(num)\n",
    "    \n",
    "for i in range(len(a)-1,-1,-1):\n",
    "    print(a[i])"
   ]
  },
  {
   "cell_type": "code",
   "execution_count": 36,
   "id": "c1c78b93",
   "metadata": {},
   "outputs": [],
   "source": [
    "# Programme to find the biggest element in an array"
   ]
  },
  {
   "cell_type": "code",
   "execution_count": 40,
   "id": "0b345458",
   "metadata": {},
   "outputs": [
    {
     "name": "stdout",
     "output_type": "stream",
     "text": [
      "Max= 877632\n"
     ]
    }
   ],
   "source": [
    "a = [12,34,863,863,887,877632]\n",
    "\n",
    "m = a[0]\n",
    "\n",
    "for i in range(len(a)):\n",
    "    if a[i]>m:\n",
    "        mx = a[i]\n",
    "        \n",
    "print('Max=',mx)        "
   ]
  },
  {
   "cell_type": "code",
   "execution_count": null,
   "id": "c760c232",
   "metadata": {},
   "outputs": [],
   "source": []
  }
 ],
 "metadata": {
  "kernelspec": {
   "display_name": "Python 3 (ipykernel)",
   "language": "python",
   "name": "python3"
  },
  "language_info": {
   "codemirror_mode": {
    "name": "ipython",
    "version": 3
   },
   "file_extension": ".py",
   "mimetype": "text/x-python",
   "name": "python",
   "nbconvert_exporter": "python",
   "pygments_lexer": "ipython3",
   "version": "3.9.7"
  }
 },
 "nbformat": 4,
 "nbformat_minor": 5
}
