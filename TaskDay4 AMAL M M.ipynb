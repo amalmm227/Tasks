{
 "cells": [
  {
   "cell_type": "code",
   "execution_count": 1,
   "id": "351b15fa",
   "metadata": {},
   "outputs": [],
   "source": [
    "# Factorial of a number"
   ]
  },
  {
   "cell_type": "code",
   "execution_count": 7,
   "id": "c88c59fc",
   "metadata": {},
   "outputs": [
    {
     "name": "stdout",
     "output_type": "stream",
     "text": [
      "Enter the number::5\n",
      "The factorial is:: 120\n"
     ]
    }
   ],
   "source": [
    "num = int(input('Enter the number::'))\n",
    "\n",
    "fact = 1\n",
    "\n",
    "if num>1:\n",
    "    for i in range(1,num+1):\n",
    "        fact=fact*i\n",
    "    \n",
    "print('The factorial is::',fact)    "
   ]
  },
  {
   "cell_type": "code",
   "execution_count": 8,
   "id": "9a415c33",
   "metadata": {},
   "outputs": [],
   "source": [
    "# Fibonacci"
   ]
  },
  {
   "cell_type": "code",
   "execution_count": 12,
   "id": "5b2a1f58",
   "metadata": {},
   "outputs": [
    {
     "name": "stdout",
     "output_type": "stream",
     "text": [
      "Enter the number :12\n",
      "0\n",
      "1\n",
      "1\n",
      "2\n",
      "3\n",
      "5\n",
      "8\n",
      "13\n",
      "21\n",
      "34\n",
      "55\n",
      "89\n"
     ]
    }
   ],
   "source": [
    "n = int(input('Enter the number :'))\n",
    "\n",
    "f0 = 0\n",
    "f1 = 1\n",
    "\n",
    "for i in range(n):\n",
    "    print(f0)\n",
    "    f0,f1 = f1,f0+f1"
   ]
  },
  {
   "cell_type": "code",
   "execution_count": 13,
   "id": "aba79194",
   "metadata": {},
   "outputs": [],
   "source": [
    "# Prime numbers"
   ]
  },
  {
   "cell_type": "code",
   "execution_count": 26,
   "id": "b9631f27",
   "metadata": {},
   "outputs": [
    {
     "name": "stdout",
     "output_type": "stream",
     "text": [
      "1\n",
      "2\n",
      "3\n",
      "5\n",
      "7\n",
      "11\n",
      "13\n",
      "17\n",
      "19\n",
      "23\n",
      "29\n",
      "31\n",
      "37\n",
      "41\n",
      "43\n",
      "47\n",
      "53\n",
      "59\n",
      "61\n",
      "67\n",
      "71\n",
      "73\n",
      "79\n",
      "83\n",
      "89\n",
      "97\n"
     ]
    }
   ],
   "source": [
    "for num in range(1,101):\n",
    "    if all(num%i!=0 for i in range(2,num)):\n",
    "        print(num)\n"
   ]
  },
  {
   "cell_type": "code",
   "execution_count": 27,
   "id": "ef1daf36",
   "metadata": {},
   "outputs": [],
   "source": [
    "# Average of n numbers"
   ]
  },
  {
   "cell_type": "code",
   "execution_count": 32,
   "id": "e1ca9503",
   "metadata": {},
   "outputs": [
    {
     "name": "stdout",
     "output_type": "stream",
     "text": [
      "Enter the numbers of range:4\n",
      "Enter the numbers:12\n",
      "Enter the numbers:86\n",
      "Enter the numbers:78\n",
      "Enter the numbers:95\n",
      "The average is 67.75\n"
     ]
    }
   ],
   "source": [
    "ranges = int(input('Enter the numbers of range:'))\n",
    "\n",
    "num = []\n",
    "\n",
    "for i in range(ranges):\n",
    "    n=int(input('Enter the numbers:'))\n",
    "    num.append(n)\n",
    "    \n",
    "sum1 = sum(num)\n",
    "avg = (sum1/ranges)\n",
    "print('The average is',avg)"
   ]
  },
  {
   "cell_type": "code",
   "execution_count": null,
   "id": "623871a4",
   "metadata": {},
   "outputs": [],
   "source": [
    "# Sum of digits"
   ]
  },
  {
   "cell_type": "code",
   "execution_count": 42,
   "id": "713ec147",
   "metadata": {},
   "outputs": [
    {
     "name": "stdout",
     "output_type": "stream",
     "text": [
      "Enter the ranges:2\n",
      "Enter the numbers:10\n",
      "Enter the numbers:10\n",
      "The sum is= 20\n"
     ]
    }
   ],
   "source": [
    "ranges = int(input('Enter the ranges:'))\n",
    "\n",
    "n = []\n",
    "\n",
    "for i in range(ranges):\n",
    "    num=int(input('Enter the numbers:'))\n",
    "    n.append(num)\n",
    "    \n",
    "total = sum(n)\n",
    "print('The sum is=',total)"
   ]
  },
  {
   "cell_type": "code",
   "execution_count": null,
   "id": "81ad2aaf",
   "metadata": {},
   "outputs": [],
   "source": []
  }
 ],
 "metadata": {
  "kernelspec": {
   "display_name": "Python 3 (ipykernel)",
   "language": "python",
   "name": "python3"
  },
  "language_info": {
   "codemirror_mode": {
    "name": "ipython",
    "version": 3
   },
   "file_extension": ".py",
   "mimetype": "text/x-python",
   "name": "python",
   "nbconvert_exporter": "python",
   "pygments_lexer": "ipython3",
   "version": "3.9.7"
  }
 },
 "nbformat": 4,
 "nbformat_minor": 5
}
