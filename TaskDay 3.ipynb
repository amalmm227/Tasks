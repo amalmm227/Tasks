{
 "cells": [
  {
   "cell_type": "code",
   "execution_count": 1,
   "id": "cd84b0af",
   "metadata": {},
   "outputs": [],
   "source": [
    "# ODD OR EVEN"
   ]
  },
  {
   "cell_type": "code",
   "execution_count": 2,
   "id": "18c7e72c",
   "metadata": {},
   "outputs": [
    {
     "name": "stdout",
     "output_type": "stream",
     "text": [
      "enter the number:2\n",
      "The given number 2 is even\n"
     ]
    }
   ],
   "source": [
    "num = int(input('enter the number:'))\n",
    "\n",
    "if num%2==0:\n",
    "    print('The given number',num,'is even')\n",
    "    \n",
    "else:\n",
    "    print('This is a odd number:')"
   ]
  },
  {
   "cell_type": "code",
   "execution_count": 3,
   "id": "695e4f0c",
   "metadata": {},
   "outputs": [],
   "source": [
    "# Amstrong or not"
   ]
  },
  {
   "cell_type": "code",
   "execution_count": 4,
   "id": "81a0fe21",
   "metadata": {},
   "outputs": [
    {
     "name": "stdout",
     "output_type": "stream",
     "text": [
      "Enter the number153\n",
      "The entered number is an amstrong number\n"
     ]
    }
   ],
   "source": [
    "num = input('Enter the number')\n",
    "\n",
    "n1 = int(num[0])\n",
    "\n",
    "n2 = int(num[1])\n",
    "\n",
    "n3 = int(num[2])\n",
    "\n",
    "s = (n1**3) + (n2**3)+ (n3**3)\n",
    "\n",
    "num1 = int(num)\n",
    "\n",
    "if num1==s:\n",
    "    print('The entered number is an amstrong number')\n",
    "    \n",
    "else:\n",
    "    print('Thi is not an amstrong number')"
   ]
  },
  {
   "cell_type": "code",
   "execution_count": 5,
   "id": "907140d8",
   "metadata": {},
   "outputs": [],
   "source": [
    "# Palindrome"
   ]
  },
  {
   "cell_type": "code",
   "execution_count": 6,
   "id": "9a58ecc7",
   "metadata": {},
   "outputs": [
    {
     "name": "stdout",
     "output_type": "stream",
     "text": [
      "enter the numbers:1111\n",
      "1111 is a Palindrome\n"
     ]
    }
   ],
   "source": [
    "num = input('enter the numbers:')\n",
    "\n",
    "n = num[::-1]\n",
    "\n",
    "num1 = int(num)\n",
    "n1   = int(n)\n",
    "\n",
    "if num1==n1:\n",
    "    print(num1,'is a Palindrome')\n",
    "else:\n",
    "    print(num1,'Not a palindrome')"
   ]
  },
  {
   "cell_type": "code",
   "execution_count": 7,
   "id": "cc2ce5c1",
   "metadata": {},
   "outputs": [],
   "source": [
    "# Palindrome to check string"
   ]
  },
  {
   "cell_type": "code",
   "execution_count": 8,
   "id": "fde6e657",
   "metadata": {},
   "outputs": [
    {
     "name": "stdout",
     "output_type": "stream",
     "text": [
      "Enter the string+malayalam\n",
      "This is a Palindrome string\n"
     ]
    }
   ],
   "source": [
    "string = input('Enter the string+')\n",
    "\n",
    "s = string[::-1]\n",
    "\n",
    "\n",
    "if string==s:\n",
    "    print('This is a Palindrome string')\n",
    "    \n",
    "else:\n",
    "    print('This is not a Palindrome string')"
   ]
  },
  {
   "cell_type": "code",
   "execution_count": 9,
   "id": "2b3e52ab",
   "metadata": {},
   "outputs": [],
   "source": [
    "# Factorial"
   ]
  },
  {
   "cell_type": "code",
   "execution_count": 13,
   "id": "63a563b6",
   "metadata": {},
   "outputs": [
    {
     "name": "stdout",
     "output_type": "stream",
     "text": [
      "Enter the number:: 6\n",
      "The factorial is: 720\n"
     ]
    }
   ],
   "source": [
    "n =  int(input('Enter the number:: '))\n",
    "f =  1\n",
    "\n",
    "if n>1:\n",
    "    for i in range(1,n+1):\n",
    "        f = f*i\n",
    "        \n",
    "print('The factorial is:',f)        "
   ]
  },
  {
   "cell_type": "code",
   "execution_count": null,
   "id": "ac2102fd",
   "metadata": {},
   "outputs": [],
   "source": []
  }
 ],
 "metadata": {
  "kernelspec": {
   "display_name": "Python 3 (ipykernel)",
   "language": "python",
   "name": "python3"
  },
  "language_info": {
   "codemirror_mode": {
    "name": "ipython",
    "version": 3
   },
   "file_extension": ".py",
   "mimetype": "text/x-python",
   "name": "python",
   "nbconvert_exporter": "python",
   "pygments_lexer": "ipython3",
   "version": "3.9.7"
  }
 },
 "nbformat": 4,
 "nbformat_minor": 5
}
