{
 "cells": [
  {
   "cell_type": "code",
   "execution_count": 9,
   "id": "8d9c9267",
   "metadata": {},
   "outputs": [
    {
     "name": "stdout",
     "output_type": "stream",
     "text": [
      "10\n",
      "5\n"
     ]
    }
   ],
   "source": [
    "a = 5\n",
    "\n",
    "b=  10\n",
    "a = a+b\n",
    "b = a-b\n",
    "a = a-b\n",
    "\n",
    "print(a)\n",
    "print(b)"
   ]
  },
  {
   "cell_type": "code",
   "execution_count": 7,
   "id": "416d31dd",
   "metadata": {},
   "outputs": [
    {
     "name": "stdout",
     "output_type": "stream",
     "text": [
      "[32, 1, 4, 8]\n"
     ]
    }
   ],
   "source": [
    "a = [1,2,4,32,12,6,8]\n",
    "\n",
    "b = [2,6,10,12,1417]\n",
    "\n",
    "result = list(set(a)-set(b))\n",
    "    \n",
    "print(result)    "
   ]
  },
  {
   "cell_type": "code",
   "execution_count": 13,
   "id": "07e2f8c6",
   "metadata": {},
   "outputs": [
    {
     "name": "stdout",
     "output_type": "stream",
     "text": [
      "Max_Value= 32\n",
      "Min_Value= 1\n"
     ]
    }
   ],
   "source": [
    "a = [1,2,4,32,12,6,8]\n",
    "\n",
    "max1=max(a)\n",
    "min1=min(a)\n",
    "\n",
    "print('Max_Value=',max1)\n",
    "print('Min_Value=',min1)"
   ]
  },
  {
   "cell_type": "code",
   "execution_count": null,
   "id": "d016bd76",
   "metadata": {},
   "outputs": [],
   "source": []
  },
  {
   "cell_type": "code",
   "execution_count": 18,
   "id": "18c23418",
   "metadata": {},
   "outputs": [
    {
     "name": "stdout",
     "output_type": "stream",
     "text": [
      "Enter the string::suhaib\n",
      "False\n"
     ]
    }
   ],
   "source": [
    "string = input('Enter the string::')\n",
    "\n",
    "vowels ='aeiouAEIOU'\n",
    "count  = 0\n",
    "\n",
    "for i in string:\n",
    "    if i in vowels:\n",
    "        count=count+1\n",
    "        \n",
    "if count>=3:\n",
    "    print('False')\n",
    "        \n",
    "else:\n",
    "    print('True')\n",
    "        "
   ]
  },
  {
   "cell_type": "code",
   "execution_count": 20,
   "id": "25f4beb9",
   "metadata": {},
   "outputs": [
    {
     "name": "stdout",
     "output_type": "stream",
     "text": [
      "Enter the string:malayalam\n",
      "New string is: ['l', 'y', 'm', 'a']\n"
     ]
    }
   ],
   "source": [
    "string = input('Enter the string:')\n",
    "\n",
    "new = list(set(string))\n",
    "\n",
    "print('New string is:',new)\n"
   ]
  },
  {
   "cell_type": "code",
   "execution_count": null,
   "id": "0cfc50e0",
   "metadata": {},
   "outputs": [],
   "source": []
  },
  {
   "cell_type": "code",
   "execution_count": null,
   "id": "9ccb822b",
   "metadata": {},
   "outputs": [],
   "source": []
  },
  {
   "cell_type": "code",
   "execution_count": 24,
   "id": "a527cf0c",
   "metadata": {},
   "outputs": [
    {
     "name": "stdout",
     "output_type": "stream",
     "text": [
      "The array has one and only one zero.\n"
     ]
    }
   ],
   "source": [
    "def check_array(numberlist):\n",
    "    count = 0\n",
    "    for i in range(len(numberlist)):\n",
    "        if numberlist[i] == 0:\n",
    "            count += 1\n",
    "        if count > 1:\n",
    "            return False\n",
    "    if count == 1:\n",
    "        return True\n",
    "    else:\n",
    "        return False\n",
    "\n",
    "numberlist = [1, 2, 3, 4,0]\n",
    "if check_array(numberlist):\n",
    "    print(\"The array has one and only one zero.\")\n",
    "else:\n",
    "    print(\"The array does not have one and only one zero.\")\n"
   ]
  },
  {
   "cell_type": "code",
   "execution_count": 33,
   "id": "b94b3090",
   "metadata": {},
   "outputs": [
    {
     "name": "stdout",
     "output_type": "stream",
     "text": [
      "The array does not have one and only one zero.\n"
     ]
    }
   ],
   "source": [
    "number = [1,2,3,4,5]\n",
    "\n",
    "count = 0\n",
    "\n",
    "for i in range(len(number)):\n",
    "    if number[i]==0:\n",
    "        count=count+1\n",
    "if count>1:\n",
    "    print('The array has one and only one zero.')\n",
    "        \n",
    "else:\n",
    "    print('The array does not have one and only one zero.')\n"
   ]
  },
  {
   "cell_type": "code",
   "execution_count": 34,
   "id": "81633ebd",
   "metadata": {},
   "outputs": [
    {
     "name": "stdout",
     "output_type": "stream",
     "text": [
      "enter the range of numbers u want:5\n",
      "enter the numbers:1\n",
      "enter the numbers:45\n",
      "enter the numbers:896\n",
      "enter the numbers:54656\n",
      "enter the numbers:8855\n",
      "[54656, 8855, 896, 45, 1]\n"
     ]
    }
   ],
   "source": [
    "n = int(input('enter the range of numbers u want:'))\n",
    "\n",
    "num1 = []\n",
    "\n",
    "for i in range(n):\n",
    "    numbers=int(input('enter the numbers:'))\n",
    "    num1.append(numbers)\n",
    "    \n",
    "sort=num1.sort(reverse=True)\n",
    "\n",
    "print(num1)"
   ]
  },
  {
   "cell_type": "code",
   "execution_count": 36,
   "id": "3c9da95b",
   "metadata": {},
   "outputs": [
    {
     "name": "stdout",
     "output_type": "stream",
     "text": [
      "Enter the sentences:amal mm maveli\n",
      "amal--mm--maveli\n"
     ]
    }
   ],
   "source": [
    "sentence = input('Enter the sentences:')\n",
    "\n",
    "new_sentence = sentence.replace(\" \", \"--\")\n",
    "\n",
    "print(new_sentence)"
   ]
  },
  {
   "cell_type": "code",
   "execution_count": 37,
   "id": "d88cc04c",
   "metadata": {},
   "outputs": [
    {
     "name": "stdout",
     "output_type": "stream",
     "text": [
      "Enter a string: asdfghjkl\n",
      "All characters in the string are unique.\n"
     ]
    }
   ],
   "source": [
    "def check_unique(str):\n",
    "    return len(set(str)) == len(str)\n",
    "\n",
    "string = input(\"Enter a string: \")\n",
    "if check_unique(string):\n",
    "    print(\"All characters in the string are unique.\")\n",
    "else:\n",
    "    print(\"The string contains duplicate characters.\")\n"
   ]
  },
  {
   "cell_type": "code",
   "execution_count": null,
   "id": "5e8c3cfe",
   "metadata": {},
   "outputs": [],
   "source": [
    "string = input('Enter a string:')\n",
    "\n",
    "r = len(set(string)) ==len(string)\n",
    "\n",
    "if "
   ]
  },
  {
   "cell_type": "code",
   "execution_count": 38,
   "id": "a7adf762",
   "metadata": {},
   "outputs": [
    {
     "name": "stdout",
     "output_type": "stream",
     "text": [
      "Enter a string: asdfghjhgfdfghjkjhgfdsdfghjkjhgfdfghj\n",
      "The string contains duplicate characters.\n"
     ]
    }
   ],
   "source": [
    "\n",
    "string = input(\"Enter a string: \")\n",
    "unique = True\n",
    "for i in range(len(string)):\n",
    "    for j in range(i + 1, len(string)):\n",
    "        if string[i] == string[j]:\n",
    "            unique = False\n",
    "            break\n",
    "\n",
    "if unique:\n",
    "    print(\"All characters in the string are unique.\")\n",
    "else:\n",
    "    print(\"The string contains duplicate characters.\")\n"
   ]
  },
  {
   "cell_type": "code",
   "execution_count": 39,
   "id": "934dc6bc",
   "metadata": {},
   "outputs": [
    {
     "name": "stdout",
     "output_type": "stream",
     "text": [
      "The position of 3 in the array is 2\n"
     ]
    }
   ],
   "source": [
    "array = [1, 2, 3, 4, 5]\n",
    "number = 3\n",
    "\n",
    "for i in range(len(array)):\n",
    "    if array[i] == number:\n",
    "        print(\"The position of\", number, \"in the array is\", i)\n",
    "        break\n"
   ]
  }
 ],
 "metadata": {
  "kernelspec": {
   "display_name": "Python 3 (ipykernel)",
   "language": "python",
   "name": "python3"
  },
  "language_info": {
   "codemirror_mode": {
    "name": "ipython",
    "version": 3
   },
   "file_extension": ".py",
   "mimetype": "text/x-python",
   "name": "python",
   "nbconvert_exporter": "python",
   "pygments_lexer": "ipython3",
   "version": "3.9.7"
  }
 },
 "nbformat": 4,
 "nbformat_minor": 5
}
