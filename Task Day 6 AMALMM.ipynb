{
 "cells": [
  {
   "cell_type": "markdown",
   "id": "737eb9bb",
   "metadata": {},
   "source": [
    " 1- Program to sort the elements of an array in ascending order"
   ]
  },
  {
   "cell_type": "code",
   "execution_count": 6,
   "id": "15c98584",
   "metadata": {},
   "outputs": [
    {
     "name": "stdout",
     "output_type": "stream",
     "text": [
      "[12, 41, 65, 75, 85, 96]\n"
     ]
    }
   ],
   "source": [
    "a = [12,85,96,75,41,65]\n",
    "\n",
    "a.sort()\n",
    "print(a)"
   ]
  },
  {
   "cell_type": "markdown",
   "id": "6dec6304",
   "metadata": {},
   "source": [
    "2- Program to sort the elements of an array in descending order."
   ]
  },
  {
   "cell_type": "code",
   "execution_count": 12,
   "id": "002929d7",
   "metadata": {},
   "outputs": [
    {
     "name": "stdout",
     "output_type": "stream",
     "text": [
      "[96, 85, 78, 74, 45, 45, 15]\n"
     ]
    }
   ],
   "source": [
    "a = [15,78,45,85,96,45,74]\n",
    "\n",
    "a.sort()\n",
    "print(a[::-1])"
   ]
  },
  {
   "cell_type": "markdown",
   "id": "430c8c22",
   "metadata": {},
   "source": [
    "3- Print Even and Odd Numbers in an Array."
   ]
  },
  {
   "cell_type": "code",
   "execution_count": 6,
   "id": "30b19a8c",
   "metadata": {},
   "outputs": [
    {
     "name": "stdout",
     "output_type": "stream",
     "text": [
      "Odd= 1\n",
      "Even= 2\n",
      "Odd= 3\n",
      "Even= 4\n",
      "Odd= 5\n",
      "Even= 6\n",
      "Odd= 7\n",
      "Even= 8\n",
      "Odd= 9\n",
      "Even= 10\n",
      "Odd= 11\n",
      "Even= 12\n",
      "Odd= 13\n",
      "Even= 14\n",
      "Odd= 15\n",
      "Even= 16\n"
     ]
    }
   ],
   "source": [
    "a = [1,2,3,4,5,6,7,8,9,10,11,12,13,14,15,16]\n",
    "\n",
    "for i in a:\n",
    "    if i%2==0:\n",
    "        print('Even=',i)\n",
    "        \n",
    "    else:\n",
    "        print('Odd=',i)"
   ]
  },
  {
   "cell_type": "markdown",
   "id": "666985c1",
   "metadata": {},
   "source": [
    "4- Program to calculate the addition of 2 matrices."
   ]
  },
  {
   "cell_type": "code",
   "execution_count": 1,
   "id": "e9d16bab",
   "metadata": {},
   "outputs": [
    {
     "name": "stdout",
     "output_type": "stream",
     "text": [
      "[[1 2]\n",
      " [3 4]]\n",
      "[[5 6]\n",
      " [7 8]]\n",
      "Sum = [[ 6  8]\n",
      " [10 12]]\n"
     ]
    }
   ],
   "source": [
    "import numpy as np\n",
    "\n",
    "a = np.array([[1,2],[3,4]])\n",
    "\n",
    "b = np.array([[5,6],[7,8]])\n",
    "\n",
    "print(a)\n",
    "print(b)\n",
    "\n",
    "c =np.array(a+b)\n",
    "print('Sum =',c)"
   ]
  },
  {
   "cell_type": "markdown",
   "id": "7b4d1ea7",
   "metadata": {},
   "source": [
    "5- Program to count the total number of vowels and consonants in a string."
   ]
  },
  {
   "cell_type": "code",
   "execution_count": 2,
   "id": "8e5f5b33",
   "metadata": {},
   "outputs": [
    {
     "name": "stdout",
     "output_type": "stream",
     "text": [
      "Enter the words::amal mm \n",
      "No.of Vowels= 2\n",
      "No.of Consonants= 6\n"
     ]
    }
   ],
   "source": [
    "strr       = input('Enter the words::')\n",
    "\n",
    "v          = ['a','e','i','o','u','A','E','I','O','U']\n",
    "vowels     = 0\n",
    "consonants = 0\n",
    "\n",
    "for i in strr:\n",
    "    if i in v:\n",
    "        vowels=vowels+1\n",
    "    else:\n",
    "        consonants = consonants+1\n",
    "        \n",
    "print('No.of Vowels=',vowels)        \n",
    "print('No.of Consonants=',consonants)"
   ]
  },
  {
   "cell_type": "markdown",
   "id": "81ab974d",
   "metadata": {},
   "source": [
    "6- Program to remove all the white spaces from a string."
   ]
  },
  {
   "cell_type": "code",
   "execution_count": 6,
   "id": "01d32eec",
   "metadata": {},
   "outputs": [
    {
     "name": "stdout",
     "output_type": "stream",
     "text": [
      "Enter the word::amal mm maveli puthan purayil house\n",
      "amalmmmaveliputhanpurayilhouse\n"
     ]
    }
   ],
   "source": [
    "str1 = input('Enter the word::')\n",
    "\n",
    "str2 = str1.replace(' ','')\n",
    "print(str2)"
   ]
  },
  {
   "cell_type": "markdown",
   "id": "6fec4b03",
   "metadata": {},
   "source": [
    "7- Program to Count the Total Number of Characters in a String."
   ]
  },
  {
   "cell_type": "code",
   "execution_count": 12,
   "id": "b2cdcccf",
   "metadata": {},
   "outputs": [
    {
     "name": "stdout",
     "output_type": "stream",
     "text": [
      "Enter the word:gsg hdsh hbd hhsh ttw\n",
      "No.of Letters= 17\n"
     ]
    }
   ],
   "source": [
    "wrd    = input('Enter the word:')\n",
    "count  = 0\n",
    "\n",
    "for i in wrd:\n",
    "    if i.isalpha():\n",
    "        count=count+1\n",
    "        \n",
    "print('No.of Letters=',count)        \n",
    "    "
   ]
  },
  {
   "cell_type": "markdown",
   "id": "4aec845b",
   "metadata": {},
   "source": [
    "8- Program to Count the Total Number of Words in a String."
   ]
  },
  {
   "cell_type": "code",
   "execution_count": 14,
   "id": "6137255e",
   "metadata": {},
   "outputs": [
    {
     "name": "stdout",
     "output_type": "stream",
     "text": [
      "Enter the word:amal mm mmm mm\n",
      "4\n"
     ]
    }
   ],
   "source": [
    "word = input('Enter the word:')\n",
    "\n",
    "a    = word.split()\n",
    "print(len(a))"
   ]
  },
  {
   "cell_type": "markdown",
   "id": "b2740956",
   "metadata": {},
   "source": [
    "9- To find an element from the String Array."
   ]
  },
  {
   "cell_type": "code",
   "execution_count": 23,
   "id": "c3ced2a5",
   "metadata": {},
   "outputs": [
    {
     "name": "stdout",
     "output_type": "stream",
     "text": [
      "The element present in Names\n"
     ]
    }
   ],
   "source": [
    "Names = ['Arjun','Amal','Athira','Aishwarya','Anu','Jomi']\n",
    "\n",
    "element = 'Amal'\n",
    "\n",
    "if element in Names:\n",
    "    print('The element present in Names')\n",
    "else:\n",
    "    print('The element not present in Names')\n",
    "   \n",
    "     "
   ]
  },
  {
   "cell_type": "markdown",
   "id": "909816f6",
   "metadata": {},
   "source": [
    "10- Program to Find Reverse of a String."
   ]
  },
  {
   "cell_type": "code",
   "execution_count": 24,
   "id": "0da1ed5f",
   "metadata": {},
   "outputs": [
    {
     "name": "stdout",
     "output_type": "stream",
     "text": [
      "Enter the word:amal\n",
      "Reverse= lama\n"
     ]
    }
   ],
   "source": [
    "word = input('Enter the word:')\n",
    "\n",
    "print('Reverse=',word[::-1])"
   ]
  },
  {
   "cell_type": "code",
   "execution_count": null,
   "id": "7447a2c5",
   "metadata": {},
   "outputs": [],
   "source": []
  }
 ],
 "metadata": {
  "kernelspec": {
   "display_name": "Python 3 (ipykernel)",
   "language": "python",
   "name": "python3"
  },
  "language_info": {
   "codemirror_mode": {
    "name": "ipython",
    "version": 3
   },
   "file_extension": ".py",
   "mimetype": "text/x-python",
   "name": "python",
   "nbconvert_exporter": "python",
   "pygments_lexer": "ipython3",
   "version": "3.9.7"
  }
 },
 "nbformat": 4,
 "nbformat_minor": 5
}
